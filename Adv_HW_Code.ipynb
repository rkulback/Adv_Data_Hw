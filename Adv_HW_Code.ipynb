{
 "cells": [
  {
   "cell_type": "code",
   "execution_count": null,
   "metadata": {},
   "outputs": [],
   "source": [
    "#import modules in cells 1 through 4\n",
    "\n",
    "%matplotlib inline\n",
    "from matplotlib import style\n",
    "style.use('fivethirtyeight')\n",
    "import matplotlib.pyplot as plt"
   ]
  },
  {
   "cell_type": "code",
   "execution_count": null,
   "metadata": {},
   "outputs": [],
   "source": [
    "import numpy as np\n",
    "import pandas as pd"
   ]
  },
  {
   "cell_type": "code",
   "execution_count": null,
   "metadata": {},
   "outputs": [],
   "source": [
    "import datetime as dt"
   ]
  },
  {
   "cell_type": "code",
   "execution_count": null,
   "metadata": {},
   "outputs": [],
   "source": [
    "# Python and SQL toolkit and Object Relational Mapper\n",
    "import sqlalchemy\n",
    "from sqlalchemy.ext.automap import automap_base\n",
    "from sqlalchemy.orm import Session\n",
    "from sqlalchemy import create_engine, func, inspect"
   ]
  },
  {
   "cell_type": "code",
   "execution_count": null,
   "metadata": {},
   "outputs": [],
   "source": [
    "# Create engine to read the SQL file\n",
    "engine = create_engine(\"sqlite:///Resources/hawaii.sqlite\")"
   ]
  },
  {
   "cell_type": "code",
   "execution_count": null,
   "metadata": {},
   "outputs": [],
   "source": [
    "# Reflect an existing database into a new model\n",
    "Base = automap_base()\n",
    "Base.prepare(engine, reflect=True)"
   ]
  },
  {
   "cell_type": "code",
   "execution_count": null,
   "metadata": {},
   "outputs": [],
   "source": [
    "# View classes that automap found\n",
    "Base.classes.keys()"
   ]
  },
  {
   "cell_type": "code",
   "execution_count": null,
   "metadata": {},
   "outputs": [],
   "source": [
    "#identify datatypes in measurement\n",
    "\n",
    "inspector = inspect(engine)\n",
    "columns = inspector.get_columns('measurement')\n",
    "for c in columns:\n",
    "    print(c['name'], c['type'])"
   ]
  },
  {
   "cell_type": "code",
   "execution_count": null,
   "metadata": {},
   "outputs": [],
   "source": [
    "# Save references to each table\n",
    "Measurement = Base.classes.measurement\n",
    "Station = Base.classes.station"
   ]
  },
  {
   "cell_type": "code",
   "execution_count": null,
   "metadata": {},
   "outputs": [],
   "source": [
    "# Create session from Python to the DB\n",
    "session = Session(engine)"
   ]
  },
  {
   "cell_type": "code",
   "execution_count": null,
   "metadata": {},
   "outputs": [],
   "source": [
    "# Display the row's columns and data in dictionary form\n",
    "first_row_measurement = session.query(Measurement).first()\n",
    "first_row_measurement.__dict__"
   ]
  },
  {
   "cell_type": "code",
   "execution_count": null,
   "metadata": {},
   "outputs": [],
   "source": [
    "#write a script to identify the last year's worth of data; save the data to individual lists\n",
    "last_date = session.query(Measurement.date).order_by(Measurement.date.desc()).first()"
   ]
  },
  {
   "cell_type": "code",
   "execution_count": null,
   "metadata": {},
   "outputs": [],
   "source": [
    "#write a query to find one year prior to the last_date\n",
    "\n",
    "query_date = dt.date(2017, 8, 23) - dt.timedelta(days=365)"
   ]
  },
  {
   "cell_type": "code",
   "execution_count": null,
   "metadata": {},
   "outputs": [],
   "source": [
    "#iterate through the data; store into lists\n",
    "\n",
    "last_year_data = (session.query(Measurement.date, Measurement.prcp)\n",
    "                  .filter(Measurement.date > str(query_date))\n",
    "                  .order_by(Measurement.date).all())\n",
    "\n",
    "measurement_date = []\n",
    "measurement_prcp = []\n",
    "\n",
    "\n",
    "for row in last_year_data:\n",
    "    measurement_date.append(row[0])\n",
    "    measurement_prcp.append(row[1])\n",
    "    \n",
    "combined_data = list(zip(measurement_date, measurement_prcp))"
   ]
  },
  {
   "cell_type": "code",
   "execution_count": null,
   "metadata": {},
   "outputs": [],
   "source": [
    "#create a pandas dataframe to store the information; clean the data\n",
    "\n",
    "combined_data_df = pd.DataFrame(combined_data, columns=('date', 'precipitation'))\n",
    "\n",
    "cleaned_df = combined_data_df.dropna()\n",
    "\n",
    "indexed_df = cleaned_df.set_index('date')\n",
    "\n",
    "indexed_df.head()"
   ]
  },
  {
   "cell_type": "code",
   "execution_count": null,
   "metadata": {},
   "outputs": [],
   "source": [
    "#plot the data from the dataframe\n",
    "import matplotlib.dates as mdates\n",
    "\n",
    "\n",
    "plt.plot(measurement_date, measurement_prcp)\n",
    "plt.legend('precipitation')\n",
    "plt.xlabel('Date')\n",
    "\n",
    "plt.show()"
   ]
  },
  {
   "cell_type": "code",
   "execution_count": null,
   "metadata": {},
   "outputs": [],
   "source": [
    "#design a query to calculate the total number of stations\n",
    "#first step is to figure out what the data looks like, and how the data is formatted\n",
    "\n",
    "#identify datatypes in station\n",
    "\n",
    "inspector = inspect(engine)\n",
    "columns = inspector.get_columns('station')\n",
    "for c in columns:\n",
    "    print(c['name'], c['type'])\n"
   ]
  },
  {
   "cell_type": "code",
   "execution_count": null,
   "metadata": {},
   "outputs": [],
   "source": [
    "# Display the station row's columns and data in dictionary form\n",
    "first_row_station = session.query(Station).first()\n",
    "first_row_station.__dict__"
   ]
  },
  {
   "cell_type": "code",
   "execution_count": null,
   "metadata": {},
   "outputs": [],
   "source": [
    "#count the total number of stations\n",
    "\n",
    "station_entries = (session.query(\n",
    "                    func.count(Station.name))\n",
    "                  .all())\n",
    "                                \n",
    "print(f\"There are {station_entries[0]} stations in the Station dataset.\")"
   ]
  },
  {
   "cell_type": "code",
   "execution_count": null,
   "metadata": {},
   "outputs": [],
   "source": [
    "#create a query to find the most active stations\n",
    "#use functions such as min, max, count, and average as needed\n",
    "\n",
    "station_count = (session.query(Station.name,\n",
    "                               Measurement.station,\n",
    "                              func.count(Measurement.tobs))\n",
    "                .filter(Station.station == Measurement.station)\n",
    "                .group_by(Station.name)\n",
    "                .order_by(func.count(Measurement.tobs).desc())\n",
    "                .all()\n",
    "                )\n",
    "\n",
    "station_count_df = pd.DataFrame(station_count, columns=('Name', 'Station', 'Total Observations'))\n",
    "\n",
    "station_count_df"
   ]
  },
  {
   "cell_type": "code",
   "execution_count": null,
   "metadata": {},
   "outputs": [],
   "source": [
    "#use similar query to above to identify the station w/ highest observation count;\n",
    "#save the results into a variable to be used below\n",
    "\n",
    "station_leader = station_count = (session.query(Station.name,\n",
    "                               Measurement.station,\n",
    "                              func.count(Measurement.tobs))\n",
    "                .filter(Station.station == Measurement.station)\n",
    "                .group_by(Station.name)\n",
    "                .order_by(func.count(Measurement.tobs).desc())\n",
    "                .first())\n",
    "\n",
    "station_leader[1]"
   ]
  },
  {
   "cell_type": "code",
   "execution_count": null,
   "metadata": {},
   "outputs": [],
   "source": [
    "# Display the row's columns and data in dictionary form\n",
    "first_row_measurement = session.query(Measurement).first()\n",
    "first_row_measurement.__dict__"
   ]
  },
  {
   "cell_type": "code",
   "execution_count": null,
   "metadata": {},
   "outputs": [],
   "source": [
    "#Design a query to retrieve the last 12 months of temperature observation data (tobs)\n",
    "#Data must come from the station with the highest observation count\n",
    "\n",
    "annual_data = (session.query(Measurement.tobs)\n",
    "                  .filter(Station.station == Measurement.station)\n",
    "                .filter(Measurement.date > str(query_date))\n",
    "                .filter(Measurement.station == str(station_leader[1]))\n",
    "                .all())\n",
    "\n",
    "annual_data"
   ]
  },
  {
   "cell_type": "code",
   "execution_count": null,
   "metadata": {},
   "outputs": [],
   "source": [
    "#put data into list so i can plot it\n",
    "\n",
    "list_annual_data = []\n",
    "\n",
    "for row in annual_data:\n",
    "    list_annual_data.append(row[0])\n",
    "    \n",
    "print(list_annual_data)"
   ]
  },
  {
   "cell_type": "code",
   "execution_count": null,
   "metadata": {},
   "outputs": [],
   "source": [
    "highest_temp = (session.query(Station.name,\n",
    "                              func.max(Measurement.tobs),\n",
    "                             Measurement.date)\n",
    "                .filter(Station.station == Measurement.station)\n",
    "                .filter(Measurement.station == str(station_leader[1]))\n",
    "                .all())\n",
    "\n",
    "lowest_temp = (session.query(Station.name,\n",
    "                              func.min(Measurement.tobs),\n",
    "                             Measurement.date)\n",
    "                .filter(Station.station == Measurement.station)\n",
    "                .filter(Measurement.station == str(station_leader[1]))\n",
    "                .all())\n",
    "\n",
    "average_temp = (session.query(Station.name,\n",
    "                              func.avg(Measurement.tobs),\n",
    "                             Measurement.date)\n",
    "                .filter(Station.station == Measurement.station)\n",
    "                .filter(Measurement.station == str(station_leader[1]))\n",
    "                .all())\n",
    "\n",
    "print(f\"The highest recorded temp from {highest_temp[0][0]} station was {highest_temp[0][1]} degrees on {highest_temp[0][2]}.\")\n",
    "print(f\"The lowest recorded temp from {lowest_temp[0][0]} station was {lowest_temp[0][1]} degrees on {lowest_temp[0][2]}.\")\n",
    "print(f\"The average recorded temp for the {lowest_temp[0][0]} station was {average_temp[0][1]} degrees.\")\n"
   ]
  },
  {
   "cell_type": "code",
   "execution_count": null,
   "metadata": {},
   "outputs": [],
   "source": [
    "#plot annual data into a histogram; set bins = 12\n",
    "\n",
    "nbins = 12\n",
    "\n",
    "plt.hist(list_annual_data, bins=nbins)\n",
    "\n",
    "plt.ylabel('Frequency')\n",
    "plt.legend('tobs', loc='upper left')\n",
    "\n",
    "\n",
    "plt.show()"
   ]
  },
  {
   "cell_type": "code",
   "execution_count": null,
   "metadata": {},
   "outputs": [],
   "source": [
    "#see app.py for flask code\n",
    "\n",
    "prcp_dict = {i:x for i,x in combined_data}"
   ]
  },
  {
   "cell_type": "code",
   "execution_count": null,
   "metadata": {},
   "outputs": [],
   "source": []
  }
 ],
 "metadata": {
  "kernelspec": {
   "display_name": "Python 3",
   "language": "python",
   "name": "python3"
  },
  "language_info": {
   "codemirror_mode": {
    "name": "ipython",
    "version": 3
   },
   "file_extension": ".py",
   "mimetype": "text/x-python",
   "name": "python",
   "nbconvert_exporter": "python",
   "pygments_lexer": "ipython3",
   "version": "3.7.1"
  }
 },
 "nbformat": 4,
 "nbformat_minor": 2
}
